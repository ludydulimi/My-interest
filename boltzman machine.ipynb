{
 "cells": [
  {
   "cell_type": "code",
   "execution_count": 1,
   "id": "36f6ced5",
   "metadata": {},
   "outputs": [],
   "source": [
    "import numpy as np\n",
    "import pandas as pd\n",
    "import torch\n",
    "import torch.nn as nn\n",
    "import torch.nn.parallel\n",
    "import torch.optim as optim\n",
    "import torch.utils.data\n",
    "from torch.autograd import Variable"
   ]
  },
  {
   "cell_type": "code",
   "execution_count": 2,
   "id": "da68b220",
   "metadata": {},
   "outputs": [],
   "source": [
    "movies = pd.read_csv('ml-1m/movies.dat',sep='::',header= None, engine = 'python',encoding='latin-1')"
   ]
  },
  {
   "cell_type": "code",
   "execution_count": 3,
   "id": "205ff6d9",
   "metadata": {},
   "outputs": [
    {
     "data": {
      "text/html": [
       "<div>\n",
       "<style scoped>\n",
       "    .dataframe tbody tr th:only-of-type {\n",
       "        vertical-align: middle;\n",
       "    }\n",
       "\n",
       "    .dataframe tbody tr th {\n",
       "        vertical-align: top;\n",
       "    }\n",
       "\n",
       "    .dataframe thead th {\n",
       "        text-align: right;\n",
       "    }\n",
       "</style>\n",
       "<table border=\"1\" class=\"dataframe\">\n",
       "  <thead>\n",
       "    <tr style=\"text-align: right;\">\n",
       "      <th></th>\n",
       "      <th>0</th>\n",
       "      <th>1</th>\n",
       "      <th>2</th>\n",
       "    </tr>\n",
       "  </thead>\n",
       "  <tbody>\n",
       "    <tr>\n",
       "      <th>0</th>\n",
       "      <td>1</td>\n",
       "      <td>Toy Story (1995)</td>\n",
       "      <td>Animation|Children's|Comedy</td>\n",
       "    </tr>\n",
       "    <tr>\n",
       "      <th>1</th>\n",
       "      <td>2</td>\n",
       "      <td>Jumanji (1995)</td>\n",
       "      <td>Adventure|Children's|Fantasy</td>\n",
       "    </tr>\n",
       "    <tr>\n",
       "      <th>2</th>\n",
       "      <td>3</td>\n",
       "      <td>Grumpier Old Men (1995)</td>\n",
       "      <td>Comedy|Romance</td>\n",
       "    </tr>\n",
       "    <tr>\n",
       "      <th>3</th>\n",
       "      <td>4</td>\n",
       "      <td>Waiting to Exhale (1995)</td>\n",
       "      <td>Comedy|Drama</td>\n",
       "    </tr>\n",
       "    <tr>\n",
       "      <th>4</th>\n",
       "      <td>5</td>\n",
       "      <td>Father of the Bride Part II (1995)</td>\n",
       "      <td>Comedy</td>\n",
       "    </tr>\n",
       "  </tbody>\n",
       "</table>\n",
       "</div>"
      ],
      "text/plain": [
       "   0                                   1                             2\n",
       "0  1                    Toy Story (1995)   Animation|Children's|Comedy\n",
       "1  2                      Jumanji (1995)  Adventure|Children's|Fantasy\n",
       "2  3             Grumpier Old Men (1995)                Comedy|Romance\n",
       "3  4            Waiting to Exhale (1995)                  Comedy|Drama\n",
       "4  5  Father of the Bride Part II (1995)                        Comedy"
      ]
     },
     "execution_count": 3,
     "metadata": {},
     "output_type": "execute_result"
    }
   ],
   "source": [
    "movies.head()"
   ]
  },
  {
   "cell_type": "code",
   "execution_count": 4,
   "id": "84bdef9b",
   "metadata": {},
   "outputs": [],
   "source": [
    "users=pd.read_csv('ml-1m/users.dat',sep='::',header= None, engine = 'python',encoding='latin-1')"
   ]
  },
  {
   "cell_type": "code",
   "execution_count": 5,
   "id": "23bf7015",
   "metadata": {},
   "outputs": [],
   "source": [
    "ratings=pd.read_csv('ml-1m/ratings.dat',sep='::',header= None, engine = 'python',encoding='latin-1')"
   ]
  },
  {
   "cell_type": "code",
   "execution_count": 6,
   "id": "cb864960",
   "metadata": {},
   "outputs": [
    {
     "data": {
      "text/html": [
       "<div>\n",
       "<style scoped>\n",
       "    .dataframe tbody tr th:only-of-type {\n",
       "        vertical-align: middle;\n",
       "    }\n",
       "\n",
       "    .dataframe tbody tr th {\n",
       "        vertical-align: top;\n",
       "    }\n",
       "\n",
       "    .dataframe thead th {\n",
       "        text-align: right;\n",
       "    }\n",
       "</style>\n",
       "<table border=\"1\" class=\"dataframe\">\n",
       "  <thead>\n",
       "    <tr style=\"text-align: right;\">\n",
       "      <th></th>\n",
       "      <th>0</th>\n",
       "      <th>1</th>\n",
       "      <th>2</th>\n",
       "      <th>3</th>\n",
       "    </tr>\n",
       "  </thead>\n",
       "  <tbody>\n",
       "    <tr>\n",
       "      <th>0</th>\n",
       "      <td>1</td>\n",
       "      <td>1193</td>\n",
       "      <td>5</td>\n",
       "      <td>978300760</td>\n",
       "    </tr>\n",
       "    <tr>\n",
       "      <th>1</th>\n",
       "      <td>1</td>\n",
       "      <td>661</td>\n",
       "      <td>3</td>\n",
       "      <td>978302109</td>\n",
       "    </tr>\n",
       "    <tr>\n",
       "      <th>2</th>\n",
       "      <td>1</td>\n",
       "      <td>914</td>\n",
       "      <td>3</td>\n",
       "      <td>978301968</td>\n",
       "    </tr>\n",
       "    <tr>\n",
       "      <th>3</th>\n",
       "      <td>1</td>\n",
       "      <td>3408</td>\n",
       "      <td>4</td>\n",
       "      <td>978300275</td>\n",
       "    </tr>\n",
       "    <tr>\n",
       "      <th>4</th>\n",
       "      <td>1</td>\n",
       "      <td>2355</td>\n",
       "      <td>5</td>\n",
       "      <td>978824291</td>\n",
       "    </tr>\n",
       "    <tr>\n",
       "      <th>...</th>\n",
       "      <td>...</td>\n",
       "      <td>...</td>\n",
       "      <td>...</td>\n",
       "      <td>...</td>\n",
       "    </tr>\n",
       "    <tr>\n",
       "      <th>1000204</th>\n",
       "      <td>6040</td>\n",
       "      <td>1091</td>\n",
       "      <td>1</td>\n",
       "      <td>956716541</td>\n",
       "    </tr>\n",
       "    <tr>\n",
       "      <th>1000205</th>\n",
       "      <td>6040</td>\n",
       "      <td>1094</td>\n",
       "      <td>5</td>\n",
       "      <td>956704887</td>\n",
       "    </tr>\n",
       "    <tr>\n",
       "      <th>1000206</th>\n",
       "      <td>6040</td>\n",
       "      <td>562</td>\n",
       "      <td>5</td>\n",
       "      <td>956704746</td>\n",
       "    </tr>\n",
       "    <tr>\n",
       "      <th>1000207</th>\n",
       "      <td>6040</td>\n",
       "      <td>1096</td>\n",
       "      <td>4</td>\n",
       "      <td>956715648</td>\n",
       "    </tr>\n",
       "    <tr>\n",
       "      <th>1000208</th>\n",
       "      <td>6040</td>\n",
       "      <td>1097</td>\n",
       "      <td>4</td>\n",
       "      <td>956715569</td>\n",
       "    </tr>\n",
       "  </tbody>\n",
       "</table>\n",
       "<p>1000209 rows × 4 columns</p>\n",
       "</div>"
      ],
      "text/plain": [
       "            0     1  2          3\n",
       "0           1  1193  5  978300760\n",
       "1           1   661  3  978302109\n",
       "2           1   914  3  978301968\n",
       "3           1  3408  4  978300275\n",
       "4           1  2355  5  978824291\n",
       "...       ...   ... ..        ...\n",
       "1000204  6040  1091  1  956716541\n",
       "1000205  6040  1094  5  956704887\n",
       "1000206  6040   562  5  956704746\n",
       "1000207  6040  1096  4  956715648\n",
       "1000208  6040  1097  4  956715569\n",
       "\n",
       "[1000209 rows x 4 columns]"
      ]
     },
     "execution_count": 6,
     "metadata": {},
     "output_type": "execute_result"
    }
   ],
   "source": [
    "ratings"
   ]
  },
  {
   "cell_type": "code",
   "execution_count": 7,
   "id": "0a819334",
   "metadata": {},
   "outputs": [],
   "source": [
    "training_set=pd.read_csv('ml-100k/u1.base',delimiter='\\t')"
   ]
  },
  {
   "cell_type": "code",
   "execution_count": 8,
   "id": "43e75cbd",
   "metadata": {},
   "outputs": [],
   "source": [
    "training_set=np.array(training_set,dtype='int')"
   ]
  },
  {
   "cell_type": "code",
   "execution_count": 9,
   "id": "050a045e",
   "metadata": {},
   "outputs": [],
   "source": [
    "test_set=pd.read_csv('ml-100k/u1.test',delimiter='\\t')\n",
    "test_set=np.array(test_set,dtype='int')"
   ]
  },
  {
   "cell_type": "code",
   "execution_count": 10,
   "id": "8d7d5430",
   "metadata": {},
   "outputs": [],
   "source": [
    "nb_users=int(max(max(training_set[:,0]),max(test_set[:,0])))"
   ]
  },
  {
   "cell_type": "code",
   "execution_count": 11,
   "id": "f07d3b72",
   "metadata": {},
   "outputs": [],
   "source": [
    "nb_movies=int(max(max(training_set[:,1]),max(test_set[:,1])))"
   ]
  },
  {
   "cell_type": "code",
   "execution_count": 12,
   "id": "2b5792cc",
   "metadata": {},
   "outputs": [],
   "source": [
    "def convert(data):\n",
    "    new_data=[]\n",
    "    for id_users in range(1,nb_users+1):\n",
    "        id_movies = data[:,1][data[:,0]==id_users]\n",
    "        id_ratings = data[:,2][data[:,0]==id_users]\n",
    "        ratings=np.zeros(nb_movies)\n",
    "        ratings[id_movies-1]=id_ratings\n",
    "        new_data.append(list(ratings))\n",
    "    return new_data"
   ]
  },
  {
   "cell_type": "code",
   "execution_count": 13,
   "id": "9f3a0c6e",
   "metadata": {},
   "outputs": [],
   "source": [
    "training_set=convert(training_set)\n",
    "test_set=convert(test_set)"
   ]
  },
  {
   "cell_type": "code",
   "execution_count": 14,
   "id": "e1422c0f",
   "metadata": {},
   "outputs": [],
   "source": [
    "training_set=torch.FloatTensor(training_set)\n",
    "test_set=torch.FloatTensor(test_set)"
   ]
  },
  {
   "cell_type": "code",
   "execution_count": 15,
   "id": "b713bf7f",
   "metadata": {},
   "outputs": [],
   "source": [
    "training_set[training_set==0] =-1"
   ]
  },
  {
   "cell_type": "code",
   "execution_count": 16,
   "id": "8990e3e3",
   "metadata": {},
   "outputs": [],
   "source": [
    "training_set[training_set==1] =0\n",
    "training_set[training_set==2] =0\n",
    "training_set[training_set>=3] =1"
   ]
  },
  {
   "cell_type": "code",
   "execution_count": 17,
   "id": "2a93ab67",
   "metadata": {},
   "outputs": [],
   "source": [
    "test_set[test_set==0] =-1\n",
    "test_set[test_set==1] =0\n",
    "test_set[test_set==2] =0\n",
    "test_set[test_set>=3] =1"
   ]
  },
  {
   "cell_type": "code",
   "execution_count": 18,
   "id": "856f3296",
   "metadata": {},
   "outputs": [],
   "source": [
    "class RBM():\n",
    "    def __init__(self,nv,nh):\n",
    "        self.W= torch.randn(nh,nv)\n",
    "        self.a= torch.randn(1,nh)\n",
    "        self.b= torch.randn(1,nv)\n",
    "    def sample_h(self,x):\n",
    "        wx=torch.mm(x,self.W.t())\n",
    "        activation =wx + self.a.expand_as(wx)\n",
    "        p_h_given_v= torch.sigmoid(activation)\n",
    "        return p_h_given_v, torch.bernoulli(p_h_given_v)\n",
    "    def sample_v(self,y):\n",
    "        wy=torch.mm(y,self.W)\n",
    "        activation =wy + self.b.expand_as(wy)\n",
    "        p_h_given_v= torch.sigmoid(activation)\n",
    "        return p_h_given_v, torch.bernoulli(p_h_given_v)\n",
    "    def train(self,v0,vk,ph0,phk):\n",
    "        self.W +=(torch.mm(v0.t(),ph0)-torch.mm(vk.t(),phk)).t()\n",
    "        self.b +=torch.sum((v0-vk),0)\n",
    "        self.a +=torch.sum((ph0-phk),0)"
   ]
  },
  {
   "cell_type": "code",
   "execution_count": 19,
   "id": "4aa92970",
   "metadata": {},
   "outputs": [],
   "source": [
    "nv = len(training_set[0])\n",
    "nh = 100\n",
    "batch_size = 100\n",
    "rbm = RBM(nv,nh)"
   ]
  },
  {
   "cell_type": "code",
   "execution_count": 22,
   "id": "490530a8",
   "metadata": {},
   "outputs": [
    {
     "name": "stdout",
     "output_type": "stream",
     "text": [
      "epoch:1 loss: tensor(0.2634)\n",
      "epoch:1 loss: tensor(0.2507)\n",
      "epoch:1 loss: tensor(0.2446)\n",
      "epoch:1 loss: tensor(0.2351)\n",
      "epoch:1 loss: tensor(0.2378)\n",
      "epoch:1 loss: tensor(0.2458)\n",
      "epoch:1 loss: tensor(0.2442)\n",
      "epoch:1 loss: tensor(0.2489)\n",
      "epoch:1 loss: tensor(0.2496)\n",
      "epoch:2 loss: tensor(0.2406)\n",
      "epoch:2 loss: tensor(0.2409)\n",
      "epoch:2 loss: tensor(0.2365)\n",
      "epoch:2 loss: tensor(0.2327)\n",
      "epoch:2 loss: tensor(0.2375)\n",
      "epoch:2 loss: tensor(0.2457)\n",
      "epoch:2 loss: tensor(0.2453)\n",
      "epoch:2 loss: tensor(0.2475)\n",
      "epoch:2 loss: tensor(0.2488)\n",
      "epoch:3 loss: tensor(0.2547)\n",
      "epoch:3 loss: tensor(0.2496)\n",
      "epoch:3 loss: tensor(0.2375)\n",
      "epoch:3 loss: tensor(0.2298)\n",
      "epoch:3 loss: tensor(0.2376)\n",
      "epoch:3 loss: tensor(0.2428)\n",
      "epoch:3 loss: tensor(0.2435)\n",
      "epoch:3 loss: tensor(0.2484)\n",
      "epoch:3 loss: tensor(0.2468)\n",
      "epoch:4 loss: tensor(0.2538)\n",
      "epoch:4 loss: tensor(0.2410)\n",
      "epoch:4 loss: tensor(0.2357)\n",
      "epoch:4 loss: tensor(0.2348)\n",
      "epoch:4 loss: tensor(0.2393)\n",
      "epoch:4 loss: tensor(0.2443)\n",
      "epoch:4 loss: tensor(0.2430)\n",
      "epoch:4 loss: tensor(0.2458)\n",
      "epoch:4 loss: tensor(0.2456)\n",
      "epoch:5 loss: tensor(0.2503)\n",
      "epoch:5 loss: tensor(0.2491)\n",
      "epoch:5 loss: tensor(0.2417)\n",
      "epoch:5 loss: tensor(0.2353)\n",
      "epoch:5 loss: tensor(0.2384)\n",
      "epoch:5 loss: tensor(0.2468)\n",
      "epoch:5 loss: tensor(0.2470)\n",
      "epoch:5 loss: tensor(0.2499)\n",
      "epoch:5 loss: tensor(0.2510)\n",
      "epoch:6 loss: tensor(0.2528)\n",
      "epoch:6 loss: tensor(0.2472)\n",
      "epoch:6 loss: tensor(0.2380)\n",
      "epoch:6 loss: tensor(0.2321)\n",
      "epoch:6 loss: tensor(0.2357)\n",
      "epoch:6 loss: tensor(0.2457)\n",
      "epoch:6 loss: tensor(0.2463)\n",
      "epoch:6 loss: tensor(0.2477)\n",
      "epoch:6 loss: tensor(0.2488)\n",
      "epoch:7 loss: tensor(0.2454)\n",
      "epoch:7 loss: tensor(0.2424)\n",
      "epoch:7 loss: tensor(0.2359)\n",
      "epoch:7 loss: tensor(0.2303)\n",
      "epoch:7 loss: tensor(0.2360)\n",
      "epoch:7 loss: tensor(0.2444)\n",
      "epoch:7 loss: tensor(0.2437)\n",
      "epoch:7 loss: tensor(0.2457)\n",
      "epoch:7 loss: tensor(0.2452)\n",
      "epoch:8 loss: tensor(0.2503)\n",
      "epoch:8 loss: tensor(0.2485)\n",
      "epoch:8 loss: tensor(0.2397)\n",
      "epoch:8 loss: tensor(0.2331)\n",
      "epoch:8 loss: tensor(0.2375)\n",
      "epoch:8 loss: tensor(0.2447)\n",
      "epoch:8 loss: tensor(0.2441)\n",
      "epoch:8 loss: tensor(0.2483)\n",
      "epoch:8 loss: tensor(0.2473)\n",
      "epoch:9 loss: tensor(0.2604)\n",
      "epoch:9 loss: tensor(0.2497)\n",
      "epoch:9 loss: tensor(0.2409)\n",
      "epoch:9 loss: tensor(0.2348)\n",
      "epoch:9 loss: tensor(0.2408)\n",
      "epoch:9 loss: tensor(0.2457)\n",
      "epoch:9 loss: tensor(0.2454)\n",
      "epoch:9 loss: tensor(0.2492)\n",
      "epoch:9 loss: tensor(0.2498)\n",
      "epoch:10 loss: tensor(0.2456)\n",
      "epoch:10 loss: tensor(0.2385)\n",
      "epoch:10 loss: tensor(0.2321)\n",
      "epoch:10 loss: tensor(0.2272)\n",
      "epoch:10 loss: tensor(0.2345)\n",
      "epoch:10 loss: tensor(0.2447)\n",
      "epoch:10 loss: tensor(0.2434)\n",
      "epoch:10 loss: tensor(0.2468)\n",
      "epoch:10 loss: tensor(0.2453)\n"
     ]
    }
   ],
   "source": [
    "nb_epoch=10\n",
    "for epoch in range(1,nb_epoch+1):\n",
    "    train_loss = 0\n",
    "    s = 0.\n",
    "    for id_user in range(0,nb_users-batch_size,batch_size):\n",
    "        vk=training_set[id_user:id_user+batch_size]\n",
    "        v0=training_set[id_user:id_user+batch_size]\n",
    "        ph0,_ = rbm.sample_h(v0)\n",
    "        for k in range(10):\n",
    "            _,hk = rbm.sample_h(vk)\n",
    "            _,vk = rbm.sample_v(hk)\n",
    "            vk[v0<0] = v0[v0<0]\n",
    "        phk,_ = rbm.sample_h(vk)\n",
    "        rbm.train(v0,vk,ph0,phk)\n",
    "        train_loss += torch.mean(torch.abs(vk[v0>=0]-v0[v0>=0]))\n",
    "        s += 1.\n",
    "        print('epoch:'+str(epoch)+' loss:',str(train_loss/s))"
   ]
  },
  {
   "cell_type": "code",
   "execution_count": 21,
   "id": "84a2bcb3",
   "metadata": {},
   "outputs": [
    {
     "data": {
      "text/plain": [
       "tensor([[-0.5464,  0.3522,  1.6345],\n",
       "        [-0.4690,  0.5350, -0.9883]])"
      ]
     },
     "execution_count": 21,
     "metadata": {},
     "output_type": "execute_result"
    }
   ],
   "source": [
    "torch.randn(2,3)"
   ]
  }
 ],
 "metadata": {
  "kernelspec": {
   "display_name": "Python 3 (ipykernel)",
   "language": "python",
   "name": "python3"
  },
  "language_info": {
   "codemirror_mode": {
    "name": "ipython",
    "version": 3
   },
   "file_extension": ".py",
   "mimetype": "text/x-python",
   "name": "python",
   "nbconvert_exporter": "python",
   "pygments_lexer": "ipython3",
   "version": "3.9.13"
  }
 },
 "nbformat": 4,
 "nbformat_minor": 5
}
